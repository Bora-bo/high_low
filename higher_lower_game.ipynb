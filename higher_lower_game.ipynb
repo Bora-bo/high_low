{
 "cells": [
  {
   "cell_type": "code",
   "execution_count": 29,
   "id": "ee772d74",
   "metadata": {},
   "outputs": [
    {
     "name": "stdout",
     "output_type": "stream",
     "text": [
      "You won. Your current score is 4\n",
      "Cristiano Ronaldo has 215 and Billie Eilish has 61\n",
      "Press 1 to select the first option and 2 to select the second option.\n",
      "Who has more followers?\n",
      "Billie Eilish, a Musician, from United States \n",
      " VS \n",
      "9GAG, a Social media platform, from China: 2\n",
      "You lost. Your final score is 4\n",
      "Billie Eilish has 61 and 9GAG has 52\n"
     ]
    }
   ],
   "source": [
    "from IPython.display import clear_output\n",
    "from higher_lower_game_data import data\n",
    "import random\n",
    "#variable declaration\n",
    "count = 0\n",
    "\n",
    "#functions\n",
    "def choise():\n",
    "    '''this function will return a random dictionary entry'''\n",
    "    chosen_data = random.choice(data)\n",
    "    return chosen_data\n",
    "   \n",
    "def data_details(dict_entry):\n",
    "    name = dict_entry['name']\n",
    "    description = dict_entry['description']\n",
    "    country = dict_entry['country']\n",
    "    info = name + ', a ' + description + ', from ' + country\n",
    "    return info\n",
    "\n",
    "def evaluation(num_of_followers1, num_of_followers2):\n",
    "    '''this function will evaluate and return the higher digit'''\n",
    "    if num_of_followers1 < num_of_followers2:\n",
    "        return num_of_followers2\n",
    "    else:\n",
    "        return num_of_followers1\n",
    "    \n",
    "\n",
    "\n",
    "#assignment outside the while loop so the loop doesn't affect the assignment    \n",
    "second_choise = choise()\n",
    "\n",
    "game = \"True\"\n",
    "while game == \"True\":\n",
    "    #this block will assigned the 2nd random dict data to the first and assign the second_choise a new random value\n",
    "    first_choise = second_choise\n",
    "    second_choise = choise()\n",
    "    \n",
    "    #this block prevent duplicate comparisons\n",
    "    while first_choise == second_choise:\n",
    "        second_choise = choise()\n",
    "    \n",
    "    '''this block of code will get and concate the name, description and the country for the 1st and 2nd choise'''\n",
    "    first_selection_details = data_details(first_choise)\n",
    "    second_selection_details = data_details(second_choise)\n",
    "    \n",
    "    '''this block of code will assign the total followers to num_of_followers1 & 2 to be used in comparison'''\n",
    "    num_of_followers1 = first_choise['follower_count']\n",
    "    num_of_followers2 = second_choise['follower_count']\n",
    "\n",
    "\n",
    "    print(\"Press 1 to select the first option and 2 to select the second option.\")\n",
    "\n",
    "    user_input = input(\"Who has more followers?\\n{} \\n VS \\n{}: \".format(first_selection_details, second_selection_details))\n",
    "\n",
    "    if user_input == \"1\":\n",
    "        user_input = num_of_followers1\n",
    "\n",
    "    elif user_input == \"2\":\n",
    "        user_input = num_of_followers2\n",
    "\n",
    "    #calling the evaluation function\n",
    "    right_answer = evaluation(num_of_followers1, num_of_followers2)\n",
    "\n",
    "    if user_input == right_answer:\n",
    "        clear_output()\n",
    "        count += 1\n",
    "        print(\"You won. Your current score is {}\".format(count))\n",
    "        \n",
    "        \n",
    "    else:\n",
    "        print(\"You lost. Your final score is {}\".format(count))\n",
    "        game = \"False\"\n",
    "        \n",
    "    print(\"{} has {} and {} has {}\".format(first_choise['name'], first_choise['follower_count'], second_choise['name'], second_choise['follower_count']))\n",
    "    \n"
   ]
  },
  {
   "cell_type": "code",
   "execution_count": 20,
   "id": "e74dd29c",
   "metadata": {},
   "outputs": [
    {
     "name": "stdout",
     "output_type": "stream",
     "text": [
      "47\n",
      "50\n"
     ]
    }
   ],
   "source": [
    "#this program comepares follower count\n",
    "#upon comparison the higher follower count is declared the winner\n",
    "#all the data is in a dictionary called: higher_lower_game_data\n",
    "\n",
    "from higher_lower_game_data import data\n",
    "\n",
    "#this piece of code will give me the length of the list and the number of followers in the last dict\n",
    "num_of_followers = data[49]['follower_count']\n",
    "print(num_of_followers)\n",
    "print(len(data))\n"
   ]
  }
 ],
 "metadata": {
  "kernelspec": {
   "display_name": "Python 3 (ipykernel)",
   "language": "python",
   "name": "python3"
  },
  "language_info": {
   "codemirror_mode": {
    "name": "ipython",
    "version": 3
   },
   "file_extension": ".py",
   "mimetype": "text/x-python",
   "name": "python",
   "nbconvert_exporter": "python",
   "pygments_lexer": "ipython3",
   "version": "3.9.13"
  }
 },
 "nbformat": 4,
 "nbformat_minor": 5
}
